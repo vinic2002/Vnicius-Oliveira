{
  "cells": [
    {
      "cell_type": "markdown",
      "metadata": {
        "id": "view-in-github",
        "colab_type": "text"
      },
      "source": [
        "<a href=\"https://colab.research.google.com/github/vinic2002/Vnicius-Oliveira/blob/main/Ol%C3%A1%2C_este_%C3%A9_o_Colaboratory.ipynb\" target=\"_parent\"><img src=\"https://colab.research.google.com/assets/colab-badge.svg\" alt=\"Open In Colab\"/></a>"
      ]
    },
    {
      "cell_type": "code",
      "source": [
        "import pandas as pd\n",
        "\n",
        "# Passo 1: Importar o dataset\n",
        "data = pd.read_csv(\"/content/Data - data (2).csv.csv\")\n",
        "\n",
        "# Passo 2: Utilizar o describe para verificar a distribuição dos dados\n",
        "description = data.describe()\n",
        "print(description)\n",
        "\n",
        "# Passo 3: Analisar o tipo dos dados\n",
        "data_types = data.dtypes\n",
        "print(data_types)\n"
      ],
      "metadata": {
        "colab": {
          "base_uri": "https://localhost:8080/"
        },
        "id": "YXGESqgkyS0V",
        "outputId": "2aeb6af4-e39d-4fbc-e7f1-9e17c8010199"
      },
      "execution_count": 25,
      "outputs": [
        {
          "output_type": "stream",
          "name": "stdout",
          "text": [
            "            Quantity      UnitPrice     CustomerID\n",
            "count  541909.000000  541909.000000  406829.000000\n",
            "mean        9.552250       4.611121   15287.690570\n",
            "std       218.081158      96.759853    1713.600303\n",
            "min    -80995.000000  -11062.060000   12346.000000\n",
            "25%         1.000000       1.250000   13953.000000\n",
            "50%         3.000000       2.080000   15152.000000\n",
            "75%        10.000000       4.130000   16791.000000\n",
            "max     80995.000000   38970.000000   18287.000000\n",
            "InvoiceNo       object\n",
            "StockCode       object\n",
            "Description     object\n",
            "Quantity         int64\n",
            "InvoiceDate     object\n",
            "UnitPrice      float64\n",
            "CustomerID     float64\n",
            "Country         object\n",
            "dtype: object\n"
          ]
        }
      ]
    },
    {
      "cell_type": "code",
      "source": [
        "# Passo 1: Verificar valores nulos e somar a quantidade de nulos\n",
        "null_values = data.isna().sum()\n",
        "print(\"Quantidade de valores nulos por coluna:\")\n",
        "print(null_values)\n",
        "\n",
        "# Passo 2: Remover os valores nulos\n",
        "data_cleaned = data.dropna()\n",
        "\n",
        "# Verificar se os valores nulos foram removidos com sucesso\n",
        "print(\"Shape do dataset após a remoção de valores nulos:\", data_cleaned.shape)\n"
      ],
      "metadata": {
        "colab": {
          "base_uri": "https://localhost:8080/"
        },
        "id": "dMz_1VSyydTW",
        "outputId": "ae01ccba-cc52-4b92-8a01-03cba4a82d74"
      },
      "execution_count": 26,
      "outputs": [
        {
          "output_type": "stream",
          "name": "stdout",
          "text": [
            "Quantidade de valores nulos por coluna:\n",
            "InvoiceNo           0\n",
            "StockCode           0\n",
            "Description      1454\n",
            "Quantity            0\n",
            "InvoiceDate         0\n",
            "UnitPrice           0\n",
            "CustomerID     135080\n",
            "Country             0\n",
            "dtype: int64\n",
            "Shape do dataset após a remoção de valores nulos: (406829, 8)\n"
          ]
        }
      ]
    },
    {
      "cell_type": "code",
      "source": [
        "# Passo 1: Verificar valores nulos ou menores que zero na coluna de preços\n",
        "invalid_prices = data[(data['Preço'].isna()) | (data['Preço'] < 0)]\n",
        "print(\"Observações inválidas na coluna de preços:\")\n",
        "print(invalid_prices)\n",
        "\n",
        "# Passo 2: Filtrar o dataset apenas para conter preços acima de zero\n",
        "data_valid_prices = data[data['Preço'] > 0]\n",
        "\n",
        "# Passo 3: Verificar valores nulos ou menores que zero na coluna de quantidade\n",
        "invalid_quantities = data_valid_prices[(data_valid_prices['Quantidade'].isna()) | (data_valid_prices['Quantidade'] < 0)]\n",
        "print(\"Observações inválidas na coluna de quantidade:\")\n",
        "print(invalid_quantities)\n",
        "\n",
        "# Passo 4: Filtrar o dataset apenas para conter quantidades acima de zero\n",
        "data_cleaned = data_valid_prices[data_valid_prices['Quantidade'] > 0]\n",
        "\n",
        "# Verificar se as filtragens foram bem-sucedidas\n",
        "print(\"Shape do dataset após a filtragem:\", data_cleaned.shape)\n"
      ],
      "metadata": {
        "colab": {
          "base_uri": "https://localhost:8080/",
          "height": 497
        },
        "id": "b4_ksVnYzXEz",
        "outputId": "9057548a-9afc-485a-b2c9-f81d5d812282"
      },
      "execution_count": 31,
      "outputs": [
        {
          "output_type": "error",
          "ename": "KeyError",
          "evalue": "'Preço'",
          "traceback": [
            "\u001b[0;31m---------------------------------------------------------------------------\u001b[0m",
            "\u001b[0;31mKeyError\u001b[0m                                  Traceback (most recent call last)",
            "\u001b[0;32m/usr/local/lib/python3.10/dist-packages/pandas/core/indexes/base.py\u001b[0m in \u001b[0;36mget_loc\u001b[0;34m(self, key)\u001b[0m\n\u001b[1;32m   3652\u001b[0m         \u001b[0;32mtry\u001b[0m\u001b[0;34m:\u001b[0m\u001b[0;34m\u001b[0m\u001b[0;34m\u001b[0m\u001b[0m\n\u001b[0;32m-> 3653\u001b[0;31m             \u001b[0;32mreturn\u001b[0m \u001b[0mself\u001b[0m\u001b[0;34m.\u001b[0m\u001b[0m_engine\u001b[0m\u001b[0;34m.\u001b[0m\u001b[0mget_loc\u001b[0m\u001b[0;34m(\u001b[0m\u001b[0mcasted_key\u001b[0m\u001b[0;34m)\u001b[0m\u001b[0;34m\u001b[0m\u001b[0;34m\u001b[0m\u001b[0m\n\u001b[0m\u001b[1;32m   3654\u001b[0m         \u001b[0;32mexcept\u001b[0m \u001b[0mKeyError\u001b[0m \u001b[0;32mas\u001b[0m \u001b[0merr\u001b[0m\u001b[0;34m:\u001b[0m\u001b[0;34m\u001b[0m\u001b[0;34m\u001b[0m\u001b[0m\n",
            "\u001b[0;32m/usr/local/lib/python3.10/dist-packages/pandas/_libs/index.pyx\u001b[0m in \u001b[0;36mpandas._libs.index.IndexEngine.get_loc\u001b[0;34m()\u001b[0m\n",
            "\u001b[0;32m/usr/local/lib/python3.10/dist-packages/pandas/_libs/index.pyx\u001b[0m in \u001b[0;36mpandas._libs.index.IndexEngine.get_loc\u001b[0;34m()\u001b[0m\n",
            "\u001b[0;32mpandas/_libs/hashtable_class_helper.pxi\u001b[0m in \u001b[0;36mpandas._libs.hashtable.PyObjectHashTable.get_item\u001b[0;34m()\u001b[0m\n",
            "\u001b[0;32mpandas/_libs/hashtable_class_helper.pxi\u001b[0m in \u001b[0;36mpandas._libs.hashtable.PyObjectHashTable.get_item\u001b[0;34m()\u001b[0m\n",
            "\u001b[0;31mKeyError\u001b[0m: 'Preço'",
            "\nThe above exception was the direct cause of the following exception:\n",
            "\u001b[0;31mKeyError\u001b[0m                                  Traceback (most recent call last)",
            "\u001b[0;32m<ipython-input-31-2df6119877f9>\u001b[0m in \u001b[0;36m<cell line: 2>\u001b[0;34m()\u001b[0m\n\u001b[1;32m      1\u001b[0m \u001b[0;31m# Passo 1: Verificar valores nulos ou menores que zero na coluna de preços\u001b[0m\u001b[0;34m\u001b[0m\u001b[0;34m\u001b[0m\u001b[0m\n\u001b[0;32m----> 2\u001b[0;31m \u001b[0minvalid_prices\u001b[0m \u001b[0;34m=\u001b[0m \u001b[0mdata\u001b[0m\u001b[0;34m[\u001b[0m\u001b[0;34m(\u001b[0m\u001b[0mdata\u001b[0m\u001b[0;34m[\u001b[0m\u001b[0;34m'Preço'\u001b[0m\u001b[0;34m]\u001b[0m\u001b[0;34m.\u001b[0m\u001b[0misna\u001b[0m\u001b[0;34m(\u001b[0m\u001b[0;34m)\u001b[0m\u001b[0;34m)\u001b[0m \u001b[0;34m|\u001b[0m \u001b[0;34m(\u001b[0m\u001b[0mdata\u001b[0m\u001b[0;34m[\u001b[0m\u001b[0;34m'Preço'\u001b[0m\u001b[0;34m]\u001b[0m \u001b[0;34m<\u001b[0m \u001b[0;36m0\u001b[0m\u001b[0;34m)\u001b[0m\u001b[0;34m]\u001b[0m\u001b[0;34m\u001b[0m\u001b[0;34m\u001b[0m\u001b[0m\n\u001b[0m\u001b[1;32m      3\u001b[0m \u001b[0mprint\u001b[0m\u001b[0;34m(\u001b[0m\u001b[0;34m\"Observações inválidas na coluna de preços:\"\u001b[0m\u001b[0;34m)\u001b[0m\u001b[0;34m\u001b[0m\u001b[0;34m\u001b[0m\u001b[0m\n\u001b[1;32m      4\u001b[0m \u001b[0mprint\u001b[0m\u001b[0;34m(\u001b[0m\u001b[0minvalid_prices\u001b[0m\u001b[0;34m)\u001b[0m\u001b[0;34m\u001b[0m\u001b[0;34m\u001b[0m\u001b[0m\n\u001b[1;32m      5\u001b[0m \u001b[0;34m\u001b[0m\u001b[0m\n",
            "\u001b[0;32m/usr/local/lib/python3.10/dist-packages/pandas/core/frame.py\u001b[0m in \u001b[0;36m__getitem__\u001b[0;34m(self, key)\u001b[0m\n\u001b[1;32m   3759\u001b[0m             \u001b[0;32mif\u001b[0m \u001b[0mself\u001b[0m\u001b[0;34m.\u001b[0m\u001b[0mcolumns\u001b[0m\u001b[0;34m.\u001b[0m\u001b[0mnlevels\u001b[0m \u001b[0;34m>\u001b[0m \u001b[0;36m1\u001b[0m\u001b[0;34m:\u001b[0m\u001b[0;34m\u001b[0m\u001b[0;34m\u001b[0m\u001b[0m\n\u001b[1;32m   3760\u001b[0m                 \u001b[0;32mreturn\u001b[0m \u001b[0mself\u001b[0m\u001b[0;34m.\u001b[0m\u001b[0m_getitem_multilevel\u001b[0m\u001b[0;34m(\u001b[0m\u001b[0mkey\u001b[0m\u001b[0;34m)\u001b[0m\u001b[0;34m\u001b[0m\u001b[0;34m\u001b[0m\u001b[0m\n\u001b[0;32m-> 3761\u001b[0;31m             \u001b[0mindexer\u001b[0m \u001b[0;34m=\u001b[0m \u001b[0mself\u001b[0m\u001b[0;34m.\u001b[0m\u001b[0mcolumns\u001b[0m\u001b[0;34m.\u001b[0m\u001b[0mget_loc\u001b[0m\u001b[0;34m(\u001b[0m\u001b[0mkey\u001b[0m\u001b[0;34m)\u001b[0m\u001b[0;34m\u001b[0m\u001b[0;34m\u001b[0m\u001b[0m\n\u001b[0m\u001b[1;32m   3762\u001b[0m             \u001b[0;32mif\u001b[0m \u001b[0mis_integer\u001b[0m\u001b[0;34m(\u001b[0m\u001b[0mindexer\u001b[0m\u001b[0;34m)\u001b[0m\u001b[0;34m:\u001b[0m\u001b[0;34m\u001b[0m\u001b[0;34m\u001b[0m\u001b[0m\n\u001b[1;32m   3763\u001b[0m                 \u001b[0mindexer\u001b[0m \u001b[0;34m=\u001b[0m \u001b[0;34m[\u001b[0m\u001b[0mindexer\u001b[0m\u001b[0;34m]\u001b[0m\u001b[0;34m\u001b[0m\u001b[0;34m\u001b[0m\u001b[0m\n",
            "\u001b[0;32m/usr/local/lib/python3.10/dist-packages/pandas/core/indexes/base.py\u001b[0m in \u001b[0;36mget_loc\u001b[0;34m(self, key)\u001b[0m\n\u001b[1;32m   3653\u001b[0m             \u001b[0;32mreturn\u001b[0m \u001b[0mself\u001b[0m\u001b[0;34m.\u001b[0m\u001b[0m_engine\u001b[0m\u001b[0;34m.\u001b[0m\u001b[0mget_loc\u001b[0m\u001b[0;34m(\u001b[0m\u001b[0mcasted_key\u001b[0m\u001b[0;34m)\u001b[0m\u001b[0;34m\u001b[0m\u001b[0;34m\u001b[0m\u001b[0m\n\u001b[1;32m   3654\u001b[0m         \u001b[0;32mexcept\u001b[0m \u001b[0mKeyError\u001b[0m \u001b[0;32mas\u001b[0m \u001b[0merr\u001b[0m\u001b[0;34m:\u001b[0m\u001b[0;34m\u001b[0m\u001b[0;34m\u001b[0m\u001b[0m\n\u001b[0;32m-> 3655\u001b[0;31m             \u001b[0;32mraise\u001b[0m \u001b[0mKeyError\u001b[0m\u001b[0;34m(\u001b[0m\u001b[0mkey\u001b[0m\u001b[0;34m)\u001b[0m \u001b[0;32mfrom\u001b[0m \u001b[0merr\u001b[0m\u001b[0;34m\u001b[0m\u001b[0;34m\u001b[0m\u001b[0m\n\u001b[0m\u001b[1;32m   3656\u001b[0m         \u001b[0;32mexcept\u001b[0m \u001b[0mTypeError\u001b[0m\u001b[0;34m:\u001b[0m\u001b[0;34m\u001b[0m\u001b[0;34m\u001b[0m\u001b[0m\n\u001b[1;32m   3657\u001b[0m             \u001b[0;31m# If we have a listlike key, _check_indexing_error will raise\u001b[0m\u001b[0;34m\u001b[0m\u001b[0;34m\u001b[0m\u001b[0m\n",
            "\u001b[0;31mKeyError\u001b[0m: 'Preço'"
          ]
        }
      ]
    },
    {
      "cell_type": "code",
      "source": [
        "# Passo 1: Verificar linhas duplicadas\n",
        "duplicated_rows = data_cleaned[data_cleaned.duplicated()]\n",
        "print(\"Quantidade de linhas duplicadas:\", len(duplicated_rows))\n",
        "\n",
        "# Passo 2: Remover linhas duplicadas\n",
        "data_unique = data_cleaned.drop_duplicates()\n",
        "\n",
        "# Verificar se as linhas duplicadas foram removidas com sucesso\n",
        "print(\"Shape do dataset após a remoção de linhas duplicadas:\", data_unique.shape)\n"
      ],
      "metadata": {
        "colab": {
          "base_uri": "https://localhost:8080/"
        },
        "id": "EAkC_Vm4zaK4",
        "outputId": "195c333d-0282-4c51-9397-e715a77959e0"
      },
      "execution_count": 32,
      "outputs": [
        {
          "output_type": "stream",
          "name": "stdout",
          "text": [
            "Quantidade de linhas duplicadas: 5225\n",
            "Shape do dataset após a remoção de linhas duplicadas: (401604, 8)\n"
          ]
        }
      ]
    },
    {
      "cell_type": "code",
      "source": [
        "# Corrigir o tipo de dado do CustomerID para inteiro\n",
        "data_unique['CustomerID'] = data_unique['CustomerID'].astype(int)\n",
        "\n",
        "# Corrigir o tipo de dado da InvoiceDate para datetime\n",
        "data_unique['InvoiceDate'] = pd.to_datetime(data_unique['InvoiceDate'])\n",
        "\n",
        "# Verificar os tipos de dados após as correções\n",
        "print(data_unique.dtypes)\n"
      ],
      "metadata": {
        "colab": {
          "base_uri": "https://localhost:8080/"
        },
        "id": "vHzpPoMJzxDz",
        "outputId": "6784ab12-4e82-4efb-fe5b-6fa905f37acd"
      },
      "execution_count": 33,
      "outputs": [
        {
          "output_type": "stream",
          "name": "stdout",
          "text": [
            "InvoiceNo              object\n",
            "StockCode              object\n",
            "Description            object\n",
            "Quantity                int64\n",
            "InvoiceDate    datetime64[ns]\n",
            "UnitPrice             float64\n",
            "CustomerID              int64\n",
            "Country                object\n",
            "dtype: object\n"
          ]
        },
        {
          "output_type": "stream",
          "name": "stderr",
          "text": [
            "<ipython-input-33-5c5fa01e02aa>:2: SettingWithCopyWarning: \n",
            "A value is trying to be set on a copy of a slice from a DataFrame.\n",
            "Try using .loc[row_indexer,col_indexer] = value instead\n",
            "\n",
            "See the caveats in the documentation: https://pandas.pydata.org/pandas-docs/stable/user_guide/indexing.html#returning-a-view-versus-a-copy\n",
            "  data_unique['CustomerID'] = data_unique['CustomerID'].astype(int)\n",
            "<ipython-input-33-5c5fa01e02aa>:5: SettingWithCopyWarning: \n",
            "A value is trying to be set on a copy of a slice from a DataFrame.\n",
            "Try using .loc[row_indexer,col_indexer] = value instead\n",
            "\n",
            "See the caveats in the documentation: https://pandas.pydata.org/pandas-docs/stable/user_guide/indexing.html#returning-a-view-versus-a-copy\n",
            "  data_unique['InvoiceDate'] = pd.to_datetime(data_unique['InvoiceDate'])\n"
          ]
        }
      ]
    },
    {
      "cell_type": "code",
      "source": [
        "# Corrigir o tipo de dado do InvoiceNo, StockCode, Description e Country para string (object)\n",
        "data_unique['InvoiceNo'] = data_unique['InvoiceNo'].astype(str)\n",
        "data_unique['StockCode'] = data_unique['StockCode'].astype(str)\n",
        "data_unique['Description'] = data_unique['Description'].astype(str)\n",
        "data_unique['Country'] = data_unique['Country'].astype(str)\n",
        "\n",
        "# Corrigir o tipo de dado da Quantity para inteiro\n",
        "data_unique['Quantity'] = data_unique['Quantity'].astype(int)\n",
        "\n",
        "# Corrigir o tipo de dado da InvoiceDate para datetime\n",
        "data_unique['InvoiceDate'] = pd.to_datetime(data_unique['InvoiceDate'])\n",
        "\n",
        "# Corrigir o tipo de dado da UnitPrice para float\n",
        "data_unique['UnitPrice'] = data_unique['UnitPrice'].astype(float)\n",
        "\n",
        "# Corrigir o tipo de dado do CustomerID para inteiro\n",
        "data_unique['CustomerID'] = data_unique['CustomerID'].astype(int)\n",
        "\n",
        "# Verificar os tipos de dados após as correções\n",
        "print(data_unique.dtypes)\n"
      ],
      "metadata": {
        "colab": {
          "base_uri": "https://localhost:8080/"
        },
        "id": "LMOY62EUzyzI",
        "outputId": "507eb1c6-72f6-4964-e77e-07c1dc089c34"
      },
      "execution_count": 34,
      "outputs": [
        {
          "output_type": "stream",
          "name": "stdout",
          "text": [
            "InvoiceNo              object\n",
            "StockCode              object\n",
            "Description            object\n",
            "Quantity                int64\n",
            "InvoiceDate    datetime64[ns]\n",
            "UnitPrice             float64\n",
            "CustomerID              int64\n",
            "Country                object\n",
            "dtype: object\n"
          ]
        },
        {
          "output_type": "stream",
          "name": "stderr",
          "text": [
            "<ipython-input-34-cef2bde9082c>:2: SettingWithCopyWarning: \n",
            "A value is trying to be set on a copy of a slice from a DataFrame.\n",
            "Try using .loc[row_indexer,col_indexer] = value instead\n",
            "\n",
            "See the caveats in the documentation: https://pandas.pydata.org/pandas-docs/stable/user_guide/indexing.html#returning-a-view-versus-a-copy\n",
            "  data_unique['InvoiceNo'] = data_unique['InvoiceNo'].astype(str)\n",
            "<ipython-input-34-cef2bde9082c>:3: SettingWithCopyWarning: \n",
            "A value is trying to be set on a copy of a slice from a DataFrame.\n",
            "Try using .loc[row_indexer,col_indexer] = value instead\n",
            "\n",
            "See the caveats in the documentation: https://pandas.pydata.org/pandas-docs/stable/user_guide/indexing.html#returning-a-view-versus-a-copy\n",
            "  data_unique['StockCode'] = data_unique['StockCode'].astype(str)\n",
            "<ipython-input-34-cef2bde9082c>:4: SettingWithCopyWarning: \n",
            "A value is trying to be set on a copy of a slice from a DataFrame.\n",
            "Try using .loc[row_indexer,col_indexer] = value instead\n",
            "\n",
            "See the caveats in the documentation: https://pandas.pydata.org/pandas-docs/stable/user_guide/indexing.html#returning-a-view-versus-a-copy\n",
            "  data_unique['Description'] = data_unique['Description'].astype(str)\n",
            "<ipython-input-34-cef2bde9082c>:5: SettingWithCopyWarning: \n",
            "A value is trying to be set on a copy of a slice from a DataFrame.\n",
            "Try using .loc[row_indexer,col_indexer] = value instead\n",
            "\n",
            "See the caveats in the documentation: https://pandas.pydata.org/pandas-docs/stable/user_guide/indexing.html#returning-a-view-versus-a-copy\n",
            "  data_unique['Country'] = data_unique['Country'].astype(str)\n",
            "<ipython-input-34-cef2bde9082c>:8: SettingWithCopyWarning: \n",
            "A value is trying to be set on a copy of a slice from a DataFrame.\n",
            "Try using .loc[row_indexer,col_indexer] = value instead\n",
            "\n",
            "See the caveats in the documentation: https://pandas.pydata.org/pandas-docs/stable/user_guide/indexing.html#returning-a-view-versus-a-copy\n",
            "  data_unique['Quantity'] = data_unique['Quantity'].astype(int)\n",
            "<ipython-input-34-cef2bde9082c>:11: SettingWithCopyWarning: \n",
            "A value is trying to be set on a copy of a slice from a DataFrame.\n",
            "Try using .loc[row_indexer,col_indexer] = value instead\n",
            "\n",
            "See the caveats in the documentation: https://pandas.pydata.org/pandas-docs/stable/user_guide/indexing.html#returning-a-view-versus-a-copy\n",
            "  data_unique['InvoiceDate'] = pd.to_datetime(data_unique['InvoiceDate'])\n",
            "<ipython-input-34-cef2bde9082c>:14: SettingWithCopyWarning: \n",
            "A value is trying to be set on a copy of a slice from a DataFrame.\n",
            "Try using .loc[row_indexer,col_indexer] = value instead\n",
            "\n",
            "See the caveats in the documentation: https://pandas.pydata.org/pandas-docs/stable/user_guide/indexing.html#returning-a-view-versus-a-copy\n",
            "  data_unique['UnitPrice'] = data_unique['UnitPrice'].astype(float)\n",
            "<ipython-input-34-cef2bde9082c>:17: SettingWithCopyWarning: \n",
            "A value is trying to be set on a copy of a slice from a DataFrame.\n",
            "Try using .loc[row_indexer,col_indexer] = value instead\n",
            "\n",
            "See the caveats in the documentation: https://pandas.pydata.org/pandas-docs/stable/user_guide/indexing.html#returning-a-view-versus-a-copy\n",
            "  data_unique['CustomerID'] = data_unique['CustomerID'].astype(int)\n"
          ]
        }
      ]
    },
    {
      "cell_type": "code",
      "source": [
        "# Visualizar os outliers\n",
        "outliers = data_unique[(data_unique['Quantity'] > 10000) | (data_unique['UnitPrice'] > 5000)]\n",
        "print(\"Outliers:\")\n",
        "print(outliers)\n",
        "\n",
        "# Remover outliers extremos\n",
        "data_filtered = data_unique[(data_unique['Quantity'] <= 10000) & (data_unique['UnitPrice'] <= 5000)]\n",
        "\n",
        "# Verificar o shape do dataset após a remoção dos outliers\n",
        "print(\"Shape do dataset após a remoção dos outliers:\", data_filtered.shape)\n"
      ],
      "metadata": {
        "colab": {
          "base_uri": "https://localhost:8080/"
        },
        "id": "Qwnar9ZD0CPa",
        "outputId": "24774cc8-b975-4eba-a949-aadd3ff7af4d"
      },
      "execution_count": 35,
      "outputs": [
        {
          "output_type": "stream",
          "name": "stdout",
          "text": [
            "Outliers:\n",
            "       InvoiceNo StockCode                     Description  Quantity  \\\n",
            "61619     541431     23166  MEDIUM CERAMIC TOP STORAGE JAR     74215   \n",
            "173277   C551685      POST                         POSTAGE        -1   \n",
            "173382    551697      POST                         POSTAGE         1   \n",
            "173391   C551699         M                          Manual        -1   \n",
            "222681   C556445         M                          Manual        -1   \n",
            "502122    578841     84826  ASSTD DESIGN 3D PAPER STICKERS     12540   \n",
            "540421    581483     23843     PAPER CRAFT , LITTLE BIRDIE     80995   \n",
            "\n",
            "               InvoiceDate  UnitPrice  CustomerID         Country  \n",
            "61619  2011-01-18 10:01:00       1.04       12346  United Kingdom  \n",
            "173277 2011-05-03 12:51:00    8142.75       16029  United Kingdom  \n",
            "173382 2011-05-03 13:46:00    8142.75       16029  United Kingdom  \n",
            "173391 2011-05-03 14:12:00    6930.00       16029  United Kingdom  \n",
            "222681 2011-06-10 15:31:00   38970.00       15098  United Kingdom  \n",
            "502122 2011-11-25 15:57:00       0.00       13256  United Kingdom  \n",
            "540421 2011-12-09 09:15:00       2.08       16446  United Kingdom  \n",
            "Shape do dataset após a remoção dos outliers: (401597, 8)\n"
          ]
        }
      ]
    },
    {
      "cell_type": "code",
      "source": [
        "# Criar uma coluna adicional com o preço total da compra\n",
        "data_filtered['TotalPrice'] = data_filtered['Quantity'] * data_filtered['UnitPrice']\n",
        "\n",
        "# Visualizar as primeiras linhas do dataset com a nova coluna adicionada\n",
        "print(data_filtered.head())\n"
      ],
      "metadata": {
        "colab": {
          "base_uri": "https://localhost:8080/"
        },
        "id": "mRW-3YVN0OEf",
        "outputId": "da9669b8-2686-4d98-e215-f9016e4c40fc"
      },
      "execution_count": 36,
      "outputs": [
        {
          "output_type": "stream",
          "name": "stdout",
          "text": [
            "  InvoiceNo StockCode                          Description  Quantity  \\\n",
            "0    536365    85123A   WHITE HANGING HEART T-LIGHT HOLDER         6   \n",
            "1    536365     71053                  WHITE METAL LANTERN         6   \n",
            "2    536365    84406B       CREAM CUPID HEARTS COAT HANGER         8   \n",
            "3    536365    84029G  KNITTED UNION FLAG HOT WATER BOTTLE         6   \n",
            "4    536365    84029E       RED WOOLLY HOTTIE WHITE HEART.         6   \n",
            "\n",
            "          InvoiceDate  UnitPrice  CustomerID         Country  TotalPrice  \n",
            "0 2010-12-01 08:26:00       2.55       17850  United Kingdom       15.30  \n",
            "1 2010-12-01 08:26:00       3.39       17850  United Kingdom       20.34  \n",
            "2 2010-12-01 08:26:00       2.75       17850  United Kingdom       22.00  \n",
            "3 2010-12-01 08:26:00       3.39       17850  United Kingdom       20.34  \n",
            "4 2010-12-01 08:26:00       3.39       17850  United Kingdom       20.34  \n"
          ]
        },
        {
          "output_type": "stream",
          "name": "stderr",
          "text": [
            "<ipython-input-36-4ef60fc8400f>:2: SettingWithCopyWarning: \n",
            "A value is trying to be set on a copy of a slice from a DataFrame.\n",
            "Try using .loc[row_indexer,col_indexer] = value instead\n",
            "\n",
            "See the caveats in the documentation: https://pandas.pydata.org/pandas-docs/stable/user_guide/indexing.html#returning-a-view-versus-a-copy\n",
            "  data_filtered['TotalPrice'] = data_filtered['Quantity'] * data_filtered['UnitPrice']\n"
          ]
        }
      ]
    },
    {
      "cell_type": "code",
      "source": [
        "# Calcular a data da última compra no dataset\n",
        "last_purchase_date = data_filtered['InvoiceDate'].max()\n",
        "\n",
        "print(\"Data da última compra no dataset:\", last_purchase_date)\n"
      ],
      "metadata": {
        "colab": {
          "base_uri": "https://localhost:8080/"
        },
        "id": "b3khLuEg0Z3A",
        "outputId": "f9d0935e-4487-4615-bcaa-bb7a39f728e8"
      },
      "execution_count": 37,
      "outputs": [
        {
          "output_type": "stream",
          "name": "stdout",
          "text": [
            "Data da última compra no dataset: 2011-12-09 12:50:00\n"
          ]
        }
      ]
    },
    {
      "cell_type": "code",
      "source": [
        "# Agrupar os dados por país e calcular o total de vendas para cada país\n",
        "sales_by_country = data_filtered.groupby('Country')['TotalPrice'].sum()\n",
        "\n",
        "# Ordenar os resultados em ordem decrescente\n",
        "top_10_countries = sales_by_country.sort_values(ascending=False).head(10)\n",
        "\n",
        "print(\"Top 10 países com maior valor em vendas:\")\n",
        "print(top_10_countries)\n"
      ],
      "metadata": {
        "colab": {
          "base_uri": "https://localhost:8080/"
        },
        "id": "TR3KHe1H0jJL",
        "outputId": "801f4382-8ab6-449f-c920-46b3621661d7"
      },
      "execution_count": 38,
      "outputs": [
        {
          "output_type": "stream",
          "name": "stdout",
          "text": [
            "Top 10 países com maior valor em vendas:\n",
            "Country\n",
            "United Kingdom    6547406.95\n",
            "Netherlands        284661.54\n",
            "EIRE               250001.78\n",
            "Germany            221509.47\n",
            "France             196626.05\n",
            "Australia          137009.77\n",
            "Switzerland         55739.40\n",
            "Spain               54756.03\n",
            "Belgium             40910.96\n",
            "Sweden              36585.41\n",
            "Name: TotalPrice, dtype: float64\n"
          ]
        }
      ]
    },
    {
      "cell_type": "code",
      "source": [
        "# 1. Agrupar os dados por país e calcular o valor total de vendas para cada país\n",
        "sales_by_country = data_filtered.groupby('Country')['TotalPrice'].sum().reset_index()\n",
        "\n",
        "# 2. Classificar os países pelo valor total de vendas\n",
        "sales_by_country_sorted = sales_by_country.sort_values(by='TotalPrice', ascending=False)\n",
        "\n",
        "# 3. Selecionar os top 10 países\n",
        "top_10_countries = sales_by_country_sorted.head(10)\n",
        "\n",
        "print(\"Top 10 países com maior valor em vendas:\")\n",
        "print(top_10_countries)\n"
      ],
      "metadata": {
        "colab": {
          "base_uri": "https://localhost:8080/"
        },
        "id": "SJQGPxmP1Z60",
        "outputId": "833a8ad2-021d-4eda-d62d-fd446a140b21"
      },
      "execution_count": 40,
      "outputs": [
        {
          "output_type": "stream",
          "name": "stdout",
          "text": [
            "Top 10 países com maior valor em vendas:\n",
            "           Country  TotalPrice\n",
            "35  United Kingdom  6547406.95\n",
            "23     Netherlands   284661.54\n",
            "10            EIRE   250001.78\n",
            "14         Germany   221509.47\n",
            "13          France   196626.05\n",
            "0        Australia   137009.77\n",
            "32     Switzerland    55739.40\n",
            "30           Spain    54756.03\n",
            "3          Belgium    40910.96\n",
            "31          Sweden    36585.41\n"
          ]
        }
      ]
    },
    {
      "cell_type": "code",
      "source": [
        "import numpy as np\n",
        "\n",
        "# 1. Agrupar os dados por cliente e pedido (InvoiceNo) e obter a data e o preço total do pedido\n",
        "customer_orders = data_filtered.groupby(['CustomerID', 'InvoiceNo']).agg({\n",
        "    'InvoiceDate': np.max,\n",
        "    'TotalPrice': np.sum\n",
        "}).reset_index()\n",
        "\n",
        "# 2. Calcular a recência para cada cliente\n",
        "customer_orders['Recency'] = (last_purchase_date - customer_orders['InvoiceDate']).dt.days\n",
        "\n",
        "# 3. Calcular a frequência para cada cliente\n",
        "customer_frequency = customer_orders.groupby('CustomerID').size().reset_index(name='Frequency')\n",
        "\n",
        "# 4. Calcular o ticket médio para cada cliente\n",
        "customer_monetary = customer_orders.groupby('CustomerID')['TotalPrice'].mean().reset_index(name='Monetary')\n",
        "\n",
        "# Unir os resultados para obter o RFM\n",
        "rfm_data = customer_frequency.merge(customer_monetary, on='CustomerID').merge(customer_orders[['CustomerID', 'Recency']], on='CustomerID')\n",
        "\n",
        "print(rfm_data.head())\n"
      ],
      "metadata": {
        "colab": {
          "base_uri": "https://localhost:8080/"
        },
        "id": "65-oJl0C1sem",
        "outputId": "1af5170e-7377-40d2-cdd9-19235c859c1b"
      },
      "execution_count": 41,
      "outputs": [
        {
          "output_type": "stream",
          "name": "stdout",
          "text": [
            "   CustomerID  Frequency      Monetary  Recency\n",
            "0       12346          1 -77183.600000      325\n",
            "1       12347          7    615.714286      366\n",
            "2       12347          7    615.714286      316\n",
            "3       12347          7    615.714286      246\n",
            "4       12347          7    615.714286      182\n"
          ]
        }
      ]
    }
  ],
  "metadata": {
    "colab": {
      "name": "Olá, este é o Colaboratory",
      "provenance": [],
      "include_colab_link": true
    },
    "kernelspec": {
      "display_name": "Python 3",
      "name": "python3"
    }
  },
  "nbformat": 4,
  "nbformat_minor": 0
}